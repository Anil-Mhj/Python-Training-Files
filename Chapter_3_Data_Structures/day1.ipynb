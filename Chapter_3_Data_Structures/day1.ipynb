{
 "cells": [
  {
   "cell_type": "code",
   "execution_count": 14,
   "metadata": {},
   "outputs": [
    {
     "name": "stdout",
     "output_type": "stream",
     "text": [
      "[1, 3, 4, 5, 6]\n"
     ]
    }
   ],
   "source": [
    "# Lists\n",
    "my_list = [1, 2, 3, 4, 5]\n",
    "my_list.append(6)\n",
    "my_list.remove(2)\n",
    "# my_list.sort(reverse=True)\n",
    "# print(my_list)\n",
    "sorted(my_list, reverse=True)\n",
    "new_list=my_list.copy()\n",
    "print(new_list)"
   ]
  },
  {
   "cell_type": "code",
   "execution_count": 16,
   "metadata": {},
   "outputs": [
    {
     "name": "stdout",
     "output_type": "stream",
     "text": [
      "Tuple:  (1, 2, 3, 4, 5)\n",
      "Count of 2 in tuple:  1\n",
      "Index of 4 in tuple: 3\n",
      "3\n"
     ]
    },
    {
     "ename": "TypeError",
     "evalue": "'tuple' object does not support item assignment",
     "output_type": "error",
     "traceback": [
      "\u001b[0;31m---------------------------------------------------------------------------\u001b[0m",
      "\u001b[0;31mTypeError\u001b[0m                                 Traceback (most recent call last)",
      "Cell \u001b[0;32mIn[16], line 7\u001b[0m\n\u001b[1;32m      5\u001b[0m \u001b[38;5;28mprint\u001b[39m(\u001b[38;5;124m\"\u001b[39m\u001b[38;5;124mIndex of 4 in tuple:\u001b[39m\u001b[38;5;124m\"\u001b[39m, my_tuple\u001b[38;5;241m.\u001b[39mindex(\u001b[38;5;241m4\u001b[39m))\n\u001b[1;32m      6\u001b[0m \u001b[38;5;28mprint\u001b[39m(my_tuple[\u001b[38;5;241m2\u001b[39m])\n\u001b[0;32m----> 7\u001b[0m \u001b[43mmy_tuple\u001b[49m\u001b[43m[\u001b[49m\u001b[38;5;241;43m2\u001b[39;49m\u001b[43m]\u001b[49m\u001b[38;5;241m=\u001b[39m\u001b[38;5;241m1\u001b[39m\n",
      "\u001b[0;31mTypeError\u001b[0m: 'tuple' object does not support item assignment"
     ]
    }
   ],
   "source": [
    "# Tuples\n",
    "my_tuple = (1, 2, 3, 4, 5)\n",
    "print(\"Tuple: \", my_tuple)\n",
    "print(\"Count of 2 in tuple: \", my_tuple.count(2))\n",
    "print(\"Index of 4 in tuple:\", my_tuple.index(4))\n",
    "print(my_tuple[2])\n",
    "my_tuple[2]=1"
   ]
  },
  {
   "cell_type": "code",
   "execution_count": 19,
   "metadata": {},
   "outputs": [
    {
     "data": {
      "text/plain": [
       "5"
      ]
     },
     "execution_count": 19,
     "metadata": {},
     "output_type": "execute_result"
    }
   ],
   "source": [
    "tuple_list=list(my_tuple)\n",
    "tuple_list[4]"
   ]
  },
  {
   "cell_type": "code",
   "execution_count": 20,
   "metadata": {},
   "outputs": [
    {
     "name": "stdout",
     "output_type": "stream",
     "text": [
      "Set: {1, 3, 4, 5, 6}\n",
      "Union: {1, 3, 4, 5, 6, 7, 8}\n",
      "Difference:  {1, 3}\n",
      "Intersection:  {4, 5, 6}\n"
     ]
    }
   ],
   "source": [
    "# Sets\n",
    "my_set = {1, 2, 3, 4, 5}\n",
    "my_set.add(6)\n",
    "my_set.remove(2)\n",
    "another_set = {4, 5, 6, 7, 8}\n",
    "print(\"Set:\", my_set)\n",
    "print(\"Union:\", my_set.union(another_set))\n",
    "print(\"Difference: \", my_set.difference(another_set))\n",
    "print(\"Intersection: \", my_set.intersection(another_set))"
   ]
  },
  {
   "cell_type": "code",
   "execution_count": 26,
   "metadata": {},
   "outputs": [
    {
     "name": "stdout",
     "output_type": "stream",
     "text": [
      "{1, 5}\n"
     ]
    }
   ],
   "source": [
    "first_set = {1, 3, 5, 7}\n",
    "second_set = {3, 7, 9}\n",
    "result = first_set - second_set\n",
    "print(result)"
   ]
  },
  {
   "cell_type": "code",
   "execution_count": 27,
   "metadata": {},
   "outputs": [
    {
     "name": "stdout",
     "output_type": "stream",
     "text": [
      "{3, 7}\n",
      "{3, 7}\n"
     ]
    }
   ],
   "source": [
    "print(first_set.intersection(second_set))\n",
    "t3 = first_set.union(second_set)\n",
    "t1 = first_set - second_set\n",
    "t2 = second_set - first_set\n",
    "\n",
    "intersection_value = t3 - t1 - t2\n",
    "intersection_value\n",
    "print(intersection_value)"
   ]
  },
  {
   "cell_type": "code",
   "execution_count": 28,
   "metadata": {},
   "outputs": [
    {
     "name": "stdout",
     "output_type": "stream",
     "text": [
      "Dictionary: {'name': 'Alice', 'age': 26, 'gender': 'F', 'location': 'Wonderland'}\n",
      "Keys: dict_keys(['name', 'age', 'gender', 'location'])\n",
      "Values: dict_values(['Alice', 26, 'F', 'Wonderland'])\n",
      "Items: dict_items([('name', 'Alice'), ('age', 26), ('gender', 'F'), ('location', 'Wonderland')])\n"
     ]
    }
   ],
   "source": [
    "# Dictionaries\n",
    "my_dict = {\"name\": \"Alice\", \"age\": 25, \"gender\": \"F\"}\n",
    "my_dict[\"age\"] = 26\n",
    "my_dict.update({\"location\": \"Wonderland\"})\n",
    "print(\"Dictionary:\", my_dict)\n",
    "print(\"Keys:\", my_dict.keys())\n",
    "print(\"Values:\", my_dict.values())\n",
    "print(\"Items:\", my_dict.items())"
   ]
  },
  {
   "cell_type": "code",
   "execution_count": 31,
   "metadata": {},
   "outputs": [
    {
     "name": "stdout",
     "output_type": "stream",
     "text": [
      "Squares: [0, 1, 4, 9, 16, 25, 36, 49, 64, 81]\n"
     ]
    }
   ],
   "source": [
    "# List Comprehensions\n",
    "squares=[x**2 for x in range(10)]\n",
    "print(\"Squares:\", squares)"
   ]
  },
  {
   "cell_type": "code",
   "execution_count": 32,
   "metadata": {},
   "outputs": [
    {
     "name": "stdout",
     "output_type": "stream",
     "text": [
      "Even Squares: [0, 4, 16, 36, 64]\n"
     ]
    }
   ],
   "source": [
    "# Conditional comprehensions (if)\n",
    "even_squares = [x**2 for x in range(10) if x % 2 == 0]\n",
    "print(\"Even Squares:\", even_squares)"
   ]
  },
  {
   "cell_type": "code",
   "execution_count": 33,
   "metadata": {},
   "outputs": [
    {
     "name": "stdout",
     "output_type": "stream",
     "text": [
      "Odd or Even: ['even', 'odd', 'even', 'odd', 'even', 'odd', 'even', 'odd', 'even', 'odd']\n"
     ]
    }
   ],
   "source": [
    "# Conditional comprehensions (if-else)\n",
    "odd_even = [\"even\" if x % 2 == 0 else \"odd\" for x in range(10)]\n",
    "print(\"Odd or Even:\", odd_even)"
   ]
  },
  {
   "cell_type": "code",
   "execution_count": 34,
   "metadata": {},
   "outputs": [
    {
     "name": "stdout",
     "output_type": "stream",
     "text": [
      "Matrix:  [[0, 1, 2, 3, 4], [0, 1, 2, 3, 4], [0, 1, 2, 3, 4]]\n"
     ]
    }
   ],
   "source": [
    "# Nested comprehensions\n",
    "matrix = [[j for j in range(5)] for i in range(3)]\n",
    "print(\"Matrix: \", matrix)"
   ]
  },
  {
   "cell_type": "code",
   "execution_count": 35,
   "metadata": {},
   "outputs": [
    {
     "name": "stdout",
     "output_type": "stream",
     "text": [
      "Squares Dictionary: {0: 0, 1: 1, 2: 4, 3: 9, 4: 16, 5: 25, 6: 36, 7: 49, 8: 64, 9: 81}\n"
     ]
    }
   ],
   "source": [
    "# Dictionary Comprehensions\n",
    "squares_dict = {x: x**2 for x in range(10)}\n",
    "print(\"Squares Dictionary:\", squares_dict)"
   ]
  },
  {
   "cell_type": "code",
   "execution_count": 36,
   "metadata": {},
   "outputs": [
    {
     "name": "stdout",
     "output_type": "stream",
     "text": [
      "Even Squares Dictionary: {0: 0, 2: 4, 4: 16, 6: 36, 8: 64}\n"
     ]
    }
   ],
   "source": [
    "# Conditional Comprehensions (if)\n",
    "even_squares_dict = {x: x**2 for x in range(10) if x % 2 == 0}\n",
    "print(\"Even Squares Dictionary:\", even_squares_dict)"
   ]
  },
  {
   "cell_type": "code",
   "execution_count": 5,
   "metadata": {},
   "outputs": [
    {
     "name": "stdout",
     "output_type": "stream",
     "text": [
      "List item: 1\n",
      "List item: 2\n",
      "List item: 3\n",
      "List item: 4\n",
      "List item: 5\n",
      "Set item: 3\n",
      "Set item: 4\n",
      "Set item: 5\n",
      "Set item: 7\n",
      "Dictionary key: name, value: Alice\n",
      "Dictionary key: age, value: 25\n",
      "Dictionary key: gender, value: F\n"
     ]
    }
   ],
   "source": [
    "my_list = [1, 2, 3, 4, 5]\n",
    "my_set = {3, 4, 5, 7}\n",
    "my_dict = {\"name\": \"Alice\", \"age\": 25, \"gender\": \"F\"}\n",
    "\n",
    "# Iterating through a list\n",
    "for item in my_list:\n",
    "    print(\"List item:\", item)\n",
    "\n",
    "# Iterating through a set\n",
    "for item in my_set:\n",
    "    print(\"Set item:\", item)\n",
    "\n",
    "# Iterating through a dictionary\n",
    "for key, value in my_dict.items():\n",
    "    print(f\"Dictionary key: {key}, value: {value}\")"
   ]
  },
  {
   "cell_type": "code",
   "execution_count": 7,
   "metadata": {},
   "outputs": [
    {
     "name": "stdout",
     "output_type": "stream",
     "text": [
      "List: [10, 5, 8, 9]\n",
      "Length;  4\n",
      "Minimum: 5\n",
      "Maximum: 10\n",
      "Sum: 32\n",
      "Sorted List:  [5, 8, 9, 10]\n",
      "Count of 5: 1\n",
      "Index of 8: 2\n"
     ]
    }
   ],
   "source": [
    "my_list = [10, 5, 8, 9]\n",
    "print(\"List:\", my_list)\n",
    "print(\"Length; \", len(my_list))\n",
    "print(\"Minimum:\", min(my_list))\n",
    "print(\"Maximum:\", max(my_list))\n",
    "print(\"Sum:\", sum(my_list))\n",
    "print(\"Sorted List: \", sorted(my_list))\n",
    "print(\"Count of 5:\", my_list.count(5))\n",
    "print(\"Index of 8:\", my_list.index(8))"
   ]
  },
  {
   "cell_type": "code",
   "execution_count": 11,
   "metadata": {},
   "outputs": [
    {
     "name": "stdout",
     "output_type": "stream",
     "text": [
      "List: {8, 9, 10, 5}\n",
      "Length;  4\n",
      "Minimum: 5\n",
      "Maximum: 10\n",
      "Sum: 32\n",
      "Sorted Set:  [5, 8, 9, 10]\n"
     ]
    }
   ],
   "source": [
    "my_set = {10, 5, 8, 9}\n",
    "print(\"List:\", my_set)\n",
    "print(\"Length; \", len(my_set))\n",
    "print(\"Minimum:\", min(my_set))\n",
    "print(\"Maximum:\", max(my_set))\n",
    "print(\"Sum:\", sum(my_set))\n",
    "print(\"Sorted Set: \", sorted(my_set))"
   ]
  },
  {
   "cell_type": "code",
   "execution_count": null,
   "metadata": {},
   "outputs": [
    {
     "name": "stdout",
     "output_type": "stream",
     "text": [
      "Dictionary: {'a': 10, 'b': 20}\n",
      "Length;  2\n",
      "Minimum: a\n",
      "Maximum: b\n"
     ]
    },
    {
     "ename": "TypeError",
     "evalue": "unsupported operand type(s) for +: 'int' and 'str'",
     "output_type": "error",
     "traceback": [
      "\u001b[0;31m---------------------------------------------------------------------------\u001b[0m",
      "\u001b[0;31mTypeError\u001b[0m                                 Traceback (most recent call last)",
      "Cell \u001b[0;32mIn[2], line 6\u001b[0m\n\u001b[1;32m      4\u001b[0m \u001b[38;5;28mprint\u001b[39m(\u001b[38;5;124m\"\u001b[39m\u001b[38;5;124mMinimum:\u001b[39m\u001b[38;5;124m\"\u001b[39m, \u001b[38;5;28mmin\u001b[39m(my_dict))\n\u001b[1;32m      5\u001b[0m \u001b[38;5;28mprint\u001b[39m(\u001b[38;5;124m\"\u001b[39m\u001b[38;5;124mMaximum:\u001b[39m\u001b[38;5;124m\"\u001b[39m, \u001b[38;5;28mmax\u001b[39m(my_dict))\n\u001b[0;32m----> 6\u001b[0m \u001b[38;5;28mprint\u001b[39m(\u001b[38;5;124m\"\u001b[39m\u001b[38;5;124mSum:\u001b[39m\u001b[38;5;124m\"\u001b[39m, \u001b[38;5;28;43msum\u001b[39;49m\u001b[43m(\u001b[49m\u001b[43mmy_dict\u001b[49m\u001b[43m)\u001b[49m)\n\u001b[1;32m      7\u001b[0m \u001b[38;5;28mprint\u001b[39m(\u001b[38;5;124m\"\u001b[39m\u001b[38;5;124mSorted List: \u001b[39m\u001b[38;5;124m\"\u001b[39m, \u001b[38;5;28msorted\u001b[39m(my_dict))\n\u001b[1;32m      8\u001b[0m \u001b[38;5;28mprint\u001b[39m(\u001b[38;5;124m\"\u001b[39m\u001b[38;5;124mCount of 5:\u001b[39m\u001b[38;5;124m\"\u001b[39m, my_dict\u001b[38;5;241m.\u001b[39mcount(\u001b[38;5;241m5\u001b[39m))\n",
      "\u001b[0;31mTypeError\u001b[0m: unsupported operand type(s) for +: 'int' and 'str'"
     ]
    }
   ],
   "source": [
    "my_dict = {\"a\": 10, \"b\": 20}\n",
    "print(\"Dictionary:\", my_dict)\n",
    "print(\"Length; \", len(my_dict))\n",
    "print(\"Minimum:\", min(my_dict))\n",
    "print(\"Maximum:\", max(my_dict))\n",
    "print(\"Sum:\", sum(my_dict))\n",
    "print(\"Sorted List: \", sorted(my_dict))\n",
    "print(\"Count of 5:\", my_dict.count(5))\n",
    "print(\"Index of 8:\", my_dict.index(8))"
   ]
  },
  {
   "cell_type": "code",
   "execution_count": null,
   "metadata": {},
   "outputs": [],
   "source": []
  }
 ],
 "metadata": {
  "kernelspec": {
   "display_name": "Python 3",
   "language": "python",
   "name": "python3"
  },
  "language_info": {
   "codemirror_mode": {
    "name": "ipython",
    "version": 3
   },
   "file_extension": ".py",
   "mimetype": "text/x-python",
   "name": "python",
   "nbconvert_exporter": "python",
   "pygments_lexer": "ipython3",
   "version": "3.13.1"
  }
 },
 "nbformat": 4,
 "nbformat_minor": 2
}
