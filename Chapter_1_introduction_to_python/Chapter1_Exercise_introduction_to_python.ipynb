{
 "cells": [
  {
   "cell_type": "markdown",
   "metadata": {},
   "source": [
    "### Utilize all the concepts you learned from chapter 1. \n",
    "#### Feel free to edit and add the tasks. "
   ]
  },
  {
   "cell_type": "markdown",
   "metadata": {},
   "source": [
    "##### Q1. Write a code demonstrating the sum of two numbers. "
   ]
  },
  {
   "cell_type": "code",
   "execution_count": null,
   "metadata": {},
   "outputs": [
    {
     "ename": "",
     "evalue": "",
     "output_type": "error",
     "traceback": [
      "\u001b[1;31mRunning cells with 'venv (Python 3.12.7)' requires the ipykernel package.\n",
      "\u001b[1;31mRun the following command to install 'ipykernel' into the Python environment. \n",
      "\u001b[1;31mCommand: '/home/aashis/Anil/3rd_Sem/UpskillTrainingPython/venv/bin/python -m pip install ipykernel -U --force-reinstall'"
     ]
    }
   ],
   "source": [
    "# Write your code here.\n",
    "a=20\n",
    "b=30\n",
    "print(a+b)"
   ]
  },
  {
   "cell_type": "markdown",
   "metadata": {},
   "source": [
    "##### Q2. Define few variables and print their types."
   ]
  },
  {
   "cell_type": "code",
   "execution_count": 2,
   "metadata": {},
   "outputs": [
    {
     "name": "stdout",
     "output_type": "stream",
     "text": [
      "Type of a is <class 'int'>\n",
      "Type of b is <class 'float'>\n",
      "Type of c is <class 'complex'>\n"
     ]
    }
   ],
   "source": [
    "# Write your code here.\n",
    "a=10\n",
    "b=3.5\n",
    "c=5j\n",
    "print(\"Type of a is\",type(a))\n",
    "print(\"Type of b is\",type(b))\n",
    "print(\"Type of c is\",type(c))\n"
   ]
  },
  {
   "cell_type": "markdown",
   "metadata": {},
   "source": [
    "##### Q3. Write a code defining a list and accessing it's elements. "
   ]
  },
  {
   "cell_type": "code",
   "execution_count": 3,
   "metadata": {},
   "outputs": [
    {
     "name": "stdout",
     "output_type": "stream",
     "text": [
      "1\n",
      "[2, 3]\n"
     ]
    }
   ],
   "source": [
    "# Write your code here.\n",
    "my_list = [1, 2, 3, 4, 5]\n",
    "print(my_list[0])\n",
    "print(my_list[1:3])"
   ]
  },
  {
   "cell_type": "markdown",
   "metadata": {},
   "source": [
    "##### Q5. Write a code to convert a string to an integer. ( Hint: Take a number as an input )"
   ]
  },
  {
   "cell_type": "code",
   "execution_count": 5,
   "metadata": {},
   "outputs": [
    {
     "name": "stdout",
     "output_type": "stream",
     "text": [
      "67\n",
      "<class 'int'>\n"
     ]
    }
   ],
   "source": [
    "# Write your code here.\n",
    "a=input(\"Enter a number:\")\n",
    "b=float(a)\n",
    "c=int(b)\n",
    "print(c)\n",
    "print(type(c))\n",
    "\n"
   ]
  },
  {
   "cell_type": "markdown",
   "metadata": {},
   "source": [
    "##### Q6. Take two string inputs, and concatenate them."
   ]
  },
  {
   "cell_type": "code",
   "execution_count": 6,
   "metadata": {},
   "outputs": [
    {
     "name": "stdout",
     "output_type": "stream",
     "text": [
      "The concatenated string is asdert\n"
     ]
    }
   ],
   "source": [
    "# Write your code here.\n",
    "a=input(\"Enter first string: \")\n",
    "b=input(\"Enter second string: \")\n",
    "c=a+b\n",
    "print(\"The concatenated string is\",c)"
   ]
  },
  {
   "cell_type": "markdown",
   "metadata": {},
   "source": [
    "##### Q7. Create dictionary defining an object and access its values."
   ]
  },
  {
   "cell_type": "code",
   "execution_count": 8,
   "metadata": {},
   "outputs": [
    {
     "name": "stdout",
     "output_type": "stream",
     "text": [
      "Marshall\n",
      "29\n"
     ]
    }
   ],
   "source": [
    "# Write your code here.\n",
    "my_dict={\"name\":\"Marshall\",\"age\":29,\"city\":\"Kathmandu\"}\n",
    "print(my_dict[\"name\"])\n",
    "print(my_dict[\"age\"])"
   ]
  },
  {
   "cell_type": "markdown",
   "metadata": {},
   "source": [
    "##### Q8. Write a code that demonstrates the use of floating point numbers and arithmetic operations."
   ]
  },
  {
   "cell_type": "code",
   "execution_count": 10,
   "metadata": {},
   "outputs": [
    {
     "name": "stdout",
     "output_type": "stream",
     "text": [
      "Addition:  6.0\n",
      "Subtraction:  1.0\n",
      "Multiplication:  8.75\n",
      "Division:  1.4\n",
      "Exponentiation:  22.91765149399039\n"
     ]
    }
   ],
   "source": [
    "# Write your code here.\n",
    "num1=3.5\n",
    "num2=2.5\n",
    "print(\"Addition: \",num1+num2)\n",
    "print(\"Subtraction: \",num1-num2)\n",
    "print(\"Multiplication: \",num1*num2)\n",
    "print(\"Division: \",num1/num2)\n",
    "print(\"Exponentiation: \",num1**num2)"
   ]
  },
  {
   "cell_type": "markdown",
   "metadata": {},
   "source": [
    "#### Q9. Write a code to demonstrate the difference between mutable and immutable types."
   ]
  },
  {
   "cell_type": "code",
   "execution_count": 13,
   "metadata": {},
   "outputs": [
    {
     "name": "stdout",
     "output_type": "stream",
     "text": [
      "[1, 2, 3, 4, 5]\n",
      "[10, 2, 3, 4, 5, 6]\n"
     ]
    },
    {
     "ename": "TypeError",
     "evalue": "'set' object does not support item assignment",
     "output_type": "error",
     "traceback": [
      "\u001b[0;31m---------------------------------------------------------------------------\u001b[0m",
      "\u001b[0;31mTypeError\u001b[0m                                 Traceback (most recent call last)",
      "Cell \u001b[0;32mIn[13], line 9\u001b[0m\n\u001b[1;32m      6\u001b[0m \u001b[38;5;28mprint\u001b[39m(my_list)\n\u001b[1;32m      8\u001b[0m my_tuple\u001b[38;5;241m=\u001b[39m{\u001b[38;5;241m10\u001b[39m, \u001b[38;5;241m20\u001b[39m, \u001b[38;5;241m30\u001b[39m,\u001b[38;5;241m40\u001b[39m,\u001b[38;5;241m50\u001b[39m}\n\u001b[0;32m----> 9\u001b[0m \u001b[43mmy_tuple\u001b[49m\u001b[43m[\u001b[49m\u001b[38;5;241;43m0\u001b[39;49m\u001b[43m]\u001b[49m\u001b[38;5;241m=\u001b[39m\u001b[38;5;241m8\u001b[39m\n",
      "\u001b[0;31mTypeError\u001b[0m: 'set' object does not support item assignment"
     ]
    }
   ],
   "source": [
    "# Write your code here.\n",
    "my_list=[1,2,3,4,5]\n",
    "print(my_list)\n",
    "my_list[0]=10\n",
    "my_list.append(6)\n",
    "print(my_list)\n",
    "\n",
    "my_tuple={10, 20, 30,40,50}\n",
    "my_tuple[0]=8\n",
    "\n"
   ]
  },
  {
   "cell_type": "markdown",
   "metadata": {},
   "source": [
    "### Q10. Write a simple program utilizing all the concepts you learned from chapter 1. "
   ]
  },
  {
   "cell_type": "code",
   "execution_count": null,
   "metadata": {},
   "outputs": [],
   "source": [
    "# Write your code here.\n"
   ]
  },
  {
   "cell_type": "markdown",
   "metadata": {},
   "source": [
    "# **Thank You !!!**"
   ]
  },
  {
   "cell_type": "markdown",
   "metadata": {},
   "source": []
  }
 ],
 "metadata": {
  "kernelspec": {
   "display_name": "venv",
   "language": "python",
   "name": "python3"
  },
  "language_info": {
   "codemirror_mode": {
    "name": "ipython",
    "version": 3
   },
   "file_extension": ".py",
   "mimetype": "text/x-python",
   "name": "python",
   "nbconvert_exporter": "python",
   "pygments_lexer": "ipython3",
   "version": "3.12.7"
  }
 },
 "nbformat": 4,
 "nbformat_minor": 2
}
