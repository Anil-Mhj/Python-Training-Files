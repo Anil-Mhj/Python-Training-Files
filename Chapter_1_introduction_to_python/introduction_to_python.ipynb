{
 "cells": [
  {
   "cell_type": "code",
   "execution_count": 1,
   "metadata": {},
   "outputs": [
    {
     "name": "stdout",
     "output_type": "stream",
     "text": [
      "A is greater than B!\n"
     ]
    }
   ],
   "source": [
    "a = 30\n",
    "b = 20\n",
    "if a > b:\n",
    "    print(\"A is greater than B!\")\n",
    "else:\n",
    "    print(\"B is greater than A!\")"
   ]
  },
  {
   "cell_type": "code",
   "execution_count": 2,
   "metadata": {},
   "outputs": [
    {
     "name": "stdout",
     "output_type": "stream",
     "text": [
      "10000\n",
      "20000\n"
     ]
    }
   ],
   "source": [
    "salary=10000\n",
    "Salary=20000\n",
    "print(salary)\n",
    "print(Salary)"
   ]
  },
  {
   "cell_type": "code",
   "execution_count": 3,
   "metadata": {},
   "outputs": [
    {
     "name": "stdout",
     "output_type": "stream",
     "text": [
      "False\n"
     ]
    }
   ],
   "source": [
    "name=\"marshall\"\n",
    "name1=\"Marshall\"\n",
    "print(name==name1)"
   ]
  },
  {
   "cell_type": "code",
   "execution_count": 4,
   "metadata": {},
   "outputs": [
    {
     "data": {
      "text/plain": [
       "'\\nthis is also a multiline comment\\n'"
      ]
     },
     "execution_count": 4,
     "metadata": {},
     "output_type": "execute_result"
    }
   ],
   "source": [
    "# Comments\n",
    "\n",
    "# this is a comment\n",
    "\n",
    "'''\n",
    "this is multiline comment\n",
    "'''\n",
    "\n",
    "\"\"\"\n",
    "this is also a multiline comment\n",
    "\"\"\""
   ]
  },
  {
   "cell_type": "code",
   "execution_count": 5,
   "metadata": {},
   "outputs": [
    {
     "name": "stdout",
     "output_type": "stream",
     "text": [
      "John Doe\n"
     ]
    }
   ],
   "source": [
    "first_name=\"John\"\n",
    "last_name=\"Doe\"\n",
    "print(first_name+\" \"+last_name)"
   ]
  },
  {
   "cell_type": "code",
   "execution_count": 6,
   "metadata": {},
   "outputs": [
    {
     "name": "stdout",
     "output_type": "stream",
     "text": [
      "Hello, name\n"
     ]
    }
   ],
   "source": [
    "name=input(\"Enter your name:\")\n",
    "print(\"Hello, \"+name)"
   ]
  },
  {
   "cell_type": "code",
   "execution_count": 7,
   "metadata": {},
   "outputs": [
    {
     "name": "stdout",
     "output_type": "stream",
     "text": [
      "['False', 'None', 'True', 'and', 'as', 'assert', 'async', 'await', 'break', 'class', 'continue', 'def', 'del', 'elif', 'else', 'except', 'finally', 'for', 'from', 'global', 'if', 'import', 'in', 'is', 'lambda', 'nonlocal', 'not', 'or', 'pass', 'raise', 'return', 'try', 'while', 'with', 'yield']\n"
     ]
    }
   ],
   "source": [
    "import keyword\n",
    "print(keyword.kwlist)"
   ]
  },
  {
   "cell_type": "code",
   "execution_count": 8,
   "metadata": {},
   "outputs": [
    {
     "name": "stdout",
     "output_type": "stream",
     "text": [
      "15\n"
     ]
    }
   ],
   "source": [
    "x=5\n",
    "y=10\n",
    "z=x+y\n",
    "print(z)"
   ]
  },
  {
   "cell_type": "code",
   "execution_count": 9,
   "metadata": {},
   "outputs": [
    {
     "name": "stdout",
     "output_type": "stream",
     "text": [
      "Kathmandu\n",
      "Lalitpur\n"
     ]
    }
   ],
   "source": [
    "address=\"Kathmandu\"\n",
    "print(address)\n",
    "address=\"Lalitpur\"\n",
    "print(address)"
   ]
  },
  {
   "cell_type": "code",
   "execution_count": 10,
   "metadata": {},
   "outputs": [
    {
     "name": "stdout",
     "output_type": "stream",
     "text": [
      "coke\n",
      "fanta\n",
      "sprite\n"
     ]
    }
   ],
   "source": [
    "a,b,c = \"coke\", \"fanta\", \"sprite\"\n",
    "print(a)\n",
    "print(b)\n",
    "print(c)"
   ]
  },
  {
   "cell_type": "code",
   "execution_count": 11,
   "metadata": {},
   "outputs": [
    {
     "name": "stdout",
     "output_type": "stream",
     "text": [
      "soda\n",
      "soda\n",
      "soda\n"
     ]
    }
   ],
   "source": [
    "p = q = r = \"soda\"\n",
    "print(p)\n",
    "print(q)\n",
    "print(r)"
   ]
  },
  {
   "cell_type": "code",
   "execution_count": 13,
   "metadata": {},
   "outputs": [
    {
     "name": "stdout",
     "output_type": "stream",
     "text": [
      "The type of num1 is  <class 'int'>\n",
      "The type of num2 is  <class 'float'>\n",
      "The type of num3 is  <class 'complex'>\n"
     ]
    }
   ],
   "source": [
    "num1=5\n",
    "num2=10.5\n",
    "num3=2j\n",
    "\n",
    "print(\"The type of num1 is \",type(num1))\n",
    "print(\"The type of num2 is \",type(num2))\n",
    "print(\"The type of num3 is \",type(num3))"
   ]
  },
  {
   "cell_type": "code",
   "execution_count": 14,
   "metadata": {},
   "outputs": [
    {
     "name": "stdout",
     "output_type": "stream",
     "text": [
      "The type of name is: <class 'str'>\n"
     ]
    }
   ],
   "source": [
    "name=\"John\"\n",
    "print(\"The type of name is:\", type(name))"
   ]
  },
  {
   "cell_type": "code",
   "execution_count": 15,
   "metadata": {},
   "outputs": [
    {
     "name": "stdout",
     "output_type": "stream",
     "text": [
      "Artificial Intelligence\n",
      "Machine Learning\n",
      "Artificial Intelligence concatenated with Machine Learning\n",
      "Artificial Intelligence concated with Machine Learning\n"
     ]
    }
   ],
   "source": [
    "a = \"Artificial Intelligence\"\n",
    "b= 'Machine Learning'\n",
    "print(a)\n",
    "print(b)\n",
    "\n",
    "# using ',' to concatenate the two or more strings\n",
    "print(a,\"concatenated with\",b)\n",
    "\n",
    "#using '+' to concate the two or more strings\n",
    "print(a+\" concated with \"+b)"
   ]
  },
  {
   "cell_type": "code",
   "execution_count": 16,
   "metadata": {},
   "outputs": [
    {
     "name": "stdout",
     "output_type": "stream",
     "text": [
      "Data type of programing_language is <class 'list'>\n"
     ]
    }
   ],
   "source": [
    "# List Data type\n",
    "programing_language = [\"Python\", \"Java\", \"C++\", \"C#\"]\n",
    "print(\"Data type of programing_language is\", type(programing_language))"
   ]
  },
  {
   "cell_type": "code",
   "execution_count": 17,
   "metadata": {},
   "outputs": [
    {
     "data": {
      "text/plain": [
       "'Python'"
      ]
     },
     "execution_count": 17,
     "metadata": {},
     "output_type": "execute_result"
    }
   ],
   "source": [
    "programing_language[0]"
   ]
  },
  {
   "cell_type": "code",
   "execution_count": 18,
   "metadata": {},
   "outputs": [
    {
     "name": "stdout",
     "output_type": "stream",
     "text": [
      "Data type of fruits is <class 'tuple'>\n",
      "Apple\n"
     ]
    }
   ],
   "source": [
    "# Tuple Data type\n",
    "fruits = (\"Apple\", \"Banana\", \"Cherry\", \"Date\")\n",
    "print(\"Data type of fruits is\", type(fruits))\n",
    "print(fruits[0])"
   ]
  },
  {
   "cell_type": "code",
   "execution_count": 21,
   "metadata": {},
   "outputs": [
    {
     "name": "stdout",
     "output_type": "stream",
     "text": [
      "Data type of colors is <class 'set'>\n"
     ]
    },
    {
     "ename": "TypeError",
     "evalue": "'set' object is not subscriptable",
     "output_type": "error",
     "traceback": [
      "\u001b[0;31m---------------------------------------------------------------------------\u001b[0m",
      "\u001b[0;31mTypeError\u001b[0m                                 Traceback (most recent call last)",
      "Cell \u001b[0;32mIn[21], line 4\u001b[0m\n\u001b[1;32m      2\u001b[0m colors \u001b[38;5;241m=\u001b[39m {\u001b[38;5;124m\"\u001b[39m\u001b[38;5;124mRed\u001b[39m\u001b[38;5;124m\"\u001b[39m, \u001b[38;5;124m\"\u001b[39m\u001b[38;5;124mGreen\u001b[39m\u001b[38;5;124m\"\u001b[39m, \u001b[38;5;124m\"\u001b[39m\u001b[38;5;124mBlue\u001b[39m\u001b[38;5;124m\"\u001b[39m, \u001b[38;5;124m\"\u001b[39m\u001b[38;5;124mYellow\u001b[39m\u001b[38;5;124m\"\u001b[39m}\n\u001b[1;32m      3\u001b[0m \u001b[38;5;28mprint\u001b[39m(\u001b[38;5;124m\"\u001b[39m\u001b[38;5;124mData type of colors is\u001b[39m\u001b[38;5;124m\"\u001b[39m, \u001b[38;5;28mtype\u001b[39m(colors))\n\u001b[0;32m----> 4\u001b[0m \u001b[38;5;28mprint\u001b[39m(\u001b[43mcolors\u001b[49m\u001b[43m[\u001b[49m\u001b[38;5;241;43m0\u001b[39;49m\u001b[43m]\u001b[49m)\n",
      "\u001b[0;31mTypeError\u001b[0m: 'set' object is not subscriptable"
     ]
    }
   ],
   "source": [
    "# Set Data type\n",
    "colors = {\"Red\", \"Green\", \"Blue\", \"Yellow\"}\n",
    "print(\"Data type of colors is\", type(colors))\n",
    "print(colors[0])"
   ]
  },
  {
   "cell_type": "code",
   "execution_count": 22,
   "metadata": {},
   "outputs": [
    {
     "name": "stdout",
     "output_type": "stream",
     "text": [
      "Data type of person is <class 'dict'>\n",
      "Kathmandu\n"
     ]
    }
   ],
   "source": [
    "# Dictionary Data type\n",
    "person = {\n",
    "    \"name\": \"John Doe\",\n",
    "    'age': 30,\n",
    "    'address': \"Kathmandu\"}\n",
    "print(\"Data type of person is\", type(person))\n",
    "print(person['address'])"
   ]
  },
  {
   "cell_type": "code",
   "execution_count": 23,
   "metadata": {},
   "outputs": [
    {
     "name": "stdout",
     "output_type": "stream",
     "text": [
      "False\n"
     ]
    }
   ],
   "source": [
    "a = \"5\"\n",
    "b = 5\n",
    "print(a == b)\n"
   ]
  },
  {
   "cell_type": "code",
   "execution_count": 24,
   "metadata": {},
   "outputs": [
    {
     "name": "stdout",
     "output_type": "stream",
     "text": [
      "<class 'str'>\n",
      "3\n",
      "<class 'int'>\n",
      "3.0\n",
      "<class 'float'>\n"
     ]
    }
   ],
   "source": [
    "# Type Conversion\n",
    "a = \"3.14\"\n",
    "# b = int(a)\n",
    "# If you want to convert the floating-point string '3.14' into an integer, you should first convert it to a float and then to an integer.\n",
    "b = int(float(a))\n",
    "c = float(b)\n",
    "\n",
    "print(type(a))\n",
    "print(b)\n",
    "print(type(b))\n",
    "print(c)\n",
    "print(type(c))"
   ]
  },
  {
   "cell_type": "code",
   "execution_count": 26,
   "metadata": {},
   "outputs": [
    {
     "data": {
      "text/plain": [
       "[1, 4, 9, 16, 25]"
      ]
     },
     "execution_count": 26,
     "metadata": {},
     "output_type": "execute_result"
    }
   ],
   "source": [
    "my_list = [1, 2, 3, 4, 5]\n",
    "my_squared_list = [x**2 for x in my_list]\n",
    "my_squared_list"
   ]
  },
  {
   "cell_type": "code",
   "execution_count": 27,
   "metadata": {},
   "outputs": [
    {
     "name": "stdout",
     "output_type": "stream",
     "text": [
      "[(1, 4), (1, 5), (1, 6), (2, 4), (2, 5), (2, 6), (3, 4), (3, 5), (3, 6)]\n"
     ]
    }
   ],
   "source": [
    "pairs = [(i, j) for i in range(1, 4) for j in range(4, 7)]\n",
    "print(pairs) "
   ]
  },
  {
   "cell_type": "code",
   "execution_count": 28,
   "metadata": {},
   "outputs": [
    {
     "name": "stdout",
     "output_type": "stream",
     "text": [
      "[1, 2, 3, 4, 5, 6, 7, 8, 9]\n"
     ]
    }
   ],
   "source": [
    "matrix = [[1, 2, 3], [4, 5], [6, 7, 8, 9]]\n",
    "flattened = [item for row in matrix for item in row]\n",
    "print(flattened)  "
   ]
  },
  {
   "cell_type": "code",
   "execution_count": 29,
   "metadata": {},
   "outputs": [
    {
     "name": "stdout",
     "output_type": "stream",
     "text": [
      "{1: 'a', 2: 'b', 3: 'c'}\n"
     ]
    }
   ],
   "source": [
    "original = {'a': 1, 'b': 2, 'c': 3}\n",
    "swapped = {value: key for key, value in original.items()}\n",
    "print(swapped)  "
   ]
  },
  {
   "cell_type": "code",
   "execution_count": 30,
   "metadata": {},
   "outputs": [
    {
     "name": "stdout",
     "output_type": "stream",
     "text": [
      "Unique words: {'and', 'fun', 'python', 'powerful', 'is'}\n"
     ]
    }
   ],
   "source": [
    "sentence = \"Python is fun and Python is powerful\"\n",
    "unique_words = {word.lower() for word in sentence.split()}\n",
    "print(\"Unique words:\", unique_words)"
   ]
  },
  {
   "cell_type": "code",
   "execution_count": null,
   "metadata": {},
   "outputs": [],
   "source": []
  }
 ],
 "metadata": {
  "kernelspec": {
   "display_name": "Python 3",
   "language": "python",
   "name": "python3"
  },
  "language_info": {
   "codemirror_mode": {
    "name": "ipython",
    "version": 3
   },
   "file_extension": ".py",
   "mimetype": "text/x-python",
   "name": "python",
   "nbconvert_exporter": "python",
   "pygments_lexer": "ipython3",
   "version": "3.13.1"
  }
 },
 "nbformat": 4,
 "nbformat_minor": 2
}
