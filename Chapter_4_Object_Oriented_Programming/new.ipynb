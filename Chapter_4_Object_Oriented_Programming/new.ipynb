{
 "cells": [
  {
   "cell_type": "markdown",
   "metadata": {},
   "source": [
    "## str class ##"
   ]
  },
  {
   "cell_type": "code",
   "execution_count": 15,
   "metadata": {},
   "outputs": [
    {
     "name": "stdout",
     "output_type": "stream",
     "text": [
      "<class 'str'>\n",
      "HELLO, WORLD!     \n",
      "hello, world!     \n",
      "Hello, Python!     \n",
      "['Hell', ', W', 'rld!     ']\n",
      "Hello, World!\n"
     ]
    }
   ],
   "source": [
    "s = \"Hello, World!     \"\n",
    "print(type(s))\n",
    "print(s.upper())\n",
    "print(s.lower())\n",
    "print(s.replace(\"World\", \"Python\"))\n",
    "print(s.split(\"o\"))\n",
    "print(s.strip())"
   ]
  },
  {
   "cell_type": "code",
   "execution_count": 22,
   "metadata": {},
   "outputs": [
    {
     "name": "stdout",
     "output_type": "stream",
     "text": [
      "\n",
      "    Lorem Ipsum is simply dummy text of the printing and typesetting industry. \n",
      "    Lorem Ipsum has been the industry's standard dummy text ever since the 1500s, when an unknown printer took a galley of type and scrambled it to make a type specimen book. \n",
      "    It has survived not only five centuries, but also the leap into electronic typesetting, remaining essentially unchanged. \n",
      "    It was popularised in the 1960s with the release of Letraset sheets containing Lorem Ipsum passages, and more recently with desktop publishing software like Aldus PageMaker including versions of Lorem Ipsum.\n",
      "\n",
      "Lorem Ipsum is simply dummy text of the printing and typesetting industry. \n",
      "    Lorem Ipsum has been the industry's standard dummy text ever since the 1500s, when an unknown printer took a galley of type and scrambled it to make a type specimen book. \n",
      "    It has survived not only five centuries, but also the leap into electronic typesetting, remaining essentially unchanged. \n",
      "    It was popularised in the 1960s with the release of Letraset sheets containing Lorem Ipsum passages, and more recently with desktop publishing software like Aldus PageMaker including versions of Lorem Ipsum.\n",
      "['Lorem Ipsum is simply dummy text of the printing and typesetting industry. ', \"    Lorem Ipsum has been the industry's standard dummy text ever since the 1500s, when an unknown printer took a galley of type and scrambled it to make a type specimen book. \", '    It has survived not only five centuries, but also the leap into electronic typesetting, remaining essentially unchanged. ', '    It was popularised in the 1960s with the release of Letraset sheets containing Lorem Ipsum passages, and more recently with desktop publishing software like Aldus PageMaker including versions of Lorem Ipsum.']\n"
     ]
    }
   ],
   "source": [
    "new_paragraph=\"\"\"\n",
    "    Lorem Ipsum is simply dummy text of the printing and typesetting industry. \n",
    "    Lorem Ipsum has been the industry's standard dummy text ever since the 1500s, when an unknown printer took a galley of type and scrambled it to make a type specimen book. \n",
    "    It has survived not only five centuries, but also the leap into electronic typesetting, remaining essentially unchanged. \n",
    "    It was popularised in the 1960s with the release of Letraset sheets containing Lorem Ipsum passages, and more recently with desktop publishing software like Aldus PageMaker including versions of Lorem Ipsum.\n",
    "\"\"\"\n",
    "print(new_paragraph)\n",
    "new_paragraph=new_paragraph.strip()\n",
    "print(new_paragraph)\n",
    "new_paragraph=new_paragraph.split(\"\\n\")\n",
    "print(new_paragraph)"
   ]
  },
  {
   "cell_type": "markdown",
   "metadata": {},
   "source": [
    "## int class ##"
   ]
  },
  {
   "cell_type": "code",
   "execution_count": 30,
   "metadata": {},
   "outputs": [
    {
     "name": "stdout",
     "output_type": "stream",
     "text": [
      "4\n",
      "15\n",
      "100\n"
     ]
    }
   ],
   "source": [
    "x=10\n",
    "print(x.bit_length())\n",
    "print(x.__add__(5))\n",
    "print(int(\"100\"))"
   ]
  },
  {
   "cell_type": "code",
   "execution_count": 26,
   "metadata": {},
   "outputs": [],
   "source": [
    "# help(str)\n",
    "# help(int)"
   ]
  },
  {
   "cell_type": "code",
   "execution_count": 39,
   "metadata": {},
   "outputs": [
    {
     "name": "stdout",
     "output_type": "stream",
     "text": [
      "Car: Toyota X-674\n",
      "Price: 5000\n"
     ]
    }
   ],
   "source": [
    "# General Class\n",
    "class Car:\n",
    "    def __init__(self, brand, model, price):  # Constructor\n",
    "        self.brand = brand\n",
    "        self.model = model\n",
    "        self.price = price\n",
    "\n",
    "    # this class is with single method\n",
    "    def display_info(self):\n",
    "        print(f\"Car: {self.brand} {self.model}\")\n",
    "\n",
    "    def showPrice(self):\n",
    "        print(f\"Price: {self.price}\")\n",
    "\n",
    "\n",
    "# Creating an object\n",
    "carl = Car(\"Toyota\", \"X-674\", 5000)\n",
    "carl.display_info()\n",
    "carl.showPrice()"
   ]
  },
  {
   "cell_type": "code",
   "execution_count": 44,
   "metadata": {},
   "outputs": [
    {
     "name": "stdout",
     "output_type": "stream",
     "text": [
      "8\n",
      "15\n"
     ]
    }
   ],
   "source": [
    "# class with multiple methods\n",
    "class Calculator:\n",
    "    def add(self, a, b):\n",
    "        return a+b\n",
    "    def multiply(self, a, b):\n",
    "        return a*b\n",
    "\n",
    "calc=Calculator()\n",
    "print(calc.add(3,5))\n",
    "print(calc.multiply(3,5))"
   ]
  },
  {
   "cell_type": "code",
   "execution_count": null,
   "metadata": {},
   "outputs": [
    {
     "name": "stdout",
     "output_type": "stream",
     "text": [
      "Bark!\n",
      "Base Animal method can be called from Dog:\n",
      "Bark!\n",
      "\n",
      "Inheritance check:\n",
      "Is Dog a subclass of Animal? True\n",
      "Is d an instance of Dog? True\n",
      "Is d an instance of Animal True\n",
      "------------------------------\n"
     ]
    }
   ],
   "source": [
    "class Animal:\n",
    "    def make_sound(self):\n",
    "        print(\"The animal makes a sound\")\n",
    "\n",
    "\n",
    "class Dog(Animal):\n",
    "    def make_sound(self):\n",
    "        print(\"Bark!\")\n",
    "\n",
    "\n",
    "d = Dog()\n",
    "d.make_sound()\n",
    "\n",
    "print(\"Base Animal method can be called from Dog:\")\n",
    "d.make_sound()\n",
    "\n",
    "print(\"\\nInheritance check:\")\n",
    "print(f\"Is Dog a subclass of Animal? {issubclass(Dog, Animal)}\")\n",
    "print(f\"Is d an instance of Dog? {isinstance(d,Dog)}\")\n",
    "print(f\"Is d an instance of Animal {isinstance(d, Animal)}\")\n",
    "print(\"-\" * 30)"
   ]
  },
  {
   "cell_type": "markdown",
   "metadata": {},
   "source": [
    "## Method Overloading ##"
   ]
  },
  {
   "cell_type": "code",
   "execution_count": 2,
   "metadata": {},
   "outputs": [
    {
     "name": "stdout",
     "output_type": "stream",
     "text": [
      "0\n",
      "5\n",
      "5\n",
      "6\n",
      "33\n"
     ]
    }
   ],
   "source": [
    "class MathOperations:\n",
    "    def add(self, *args):\n",
    "        if len(args) == 0:\n",
    "            return 0\n",
    "        elif len(args) == 1:\n",
    "            return args[0]\n",
    "        else:\n",
    "            return sum(args)\n",
    "\n",
    "\n",
    "math = MathOperations()\n",
    "\n",
    "print(math.add())\n",
    "print(math.add(5))\n",
    "print(math.add(2, 3))\n",
    "print(math.add(1, 2, 3))\n",
    "print(math.add(4, 5, 7, 8, 9))"
   ]
  },
  {
   "cell_type": "markdown",
   "metadata": {},
   "source": [
    "## Method Overriding ##"
   ]
  },
  {
   "cell_type": "code",
   "execution_count": null,
   "metadata": {},
   "outputs": [
    {
     "name": "stdout",
     "output_type": "stream",
     "text": [
      "Vehicle is starting\n",
      "Car is starting\n"
     ]
    }
   ],
   "source": [
    "class Vehicle:\n",
    "    def start(self):\n",
    "        print(\"Vehicle is starting\")\n",
    "\n",
    "\n",
    "class Car(Vehicle):\n",
    "    def start(self):\n",
    "        print(\"Car is starting\")\n",
    "\n",
    "\n",
    "Vehicle1 = Vehicle()\n",
    "Vehicle1.start()\n",
    "\n",
    "car1 = Car()\n",
    "car1.start()"
   ]
  },
  {
   "cell_type": "code",
   "execution_count": 10,
   "metadata": {},
   "outputs": [
    {
     "name": "stdout",
     "output_type": "stream",
     "text": [
      "Args: (1, 'Test', True)\n",
      "Type of args:  <class 'tuple'>\n",
      "Args: ('Python', 3.14)\n",
      "Type of args:  <class 'tuple'>\n",
      "Kwargs:  {'name': 'Marshall', 'age': 30}\n",
      "Kwargs:  {'language': 'Python', 'version': 3.12}\n"
     ]
    }
   ],
   "source": [
    "# Demonstrating *args anf *kwargs\n",
    "def show_args(*args):\n",
    "    print(\"Args:\", args)\n",
    "    print(\"Type of args: \", type(args))\n",
    "\n",
    "\n",
    "def show_kwargs(**kwargs):\n",
    "    print(\"Kwargs: \", kwargs)\n",
    "    # print(\"Type of kwargs: \", type(kwargs))\n",
    "\n",
    "\n",
    "show_args(1, \"Test\", True)\n",
    "show_args(\"Python\", 3.14)\n",
    "\n",
    "show_kwargs(name=\"Marshall\", age=30)\n",
    "show_kwargs(language=\"Python\", version=3.12)"
   ]
  },
  {
   "cell_type": "markdown",
   "metadata": {},
   "source": [
    "## House Class ##"
   ]
  },
  {
   "cell_type": "code",
   "execution_count": 11,
   "metadata": {},
   "outputs": [
    {
     "name": "stdout",
     "output_type": "stream",
     "text": [
      "House Details:\n",
      "Price: 1000000\n",
      "Rooms: 5\n",
      "Floors: 2\n",
      "Location: Pune\n",
      "House Details:\n",
      "Price: 2000000\n",
      "Rooms: 6\n",
      "Floors: 3\n",
      "Location: Mumbai\n",
      "Outdoor Amenities:\n",
      "Pool Size: 50\n",
      "Garden Area: 1000\n"
     ]
    },
    {
     "data": {
      "text/plain": [
       "1050"
      ]
     },
     "execution_count": 11,
     "metadata": {},
     "output_type": "execute_result"
    }
   ],
   "source": [
    "class House:\n",
    "    def __init__(self,price, rooms, floors, location):\n",
    "        self.price=price\n",
    "        self.rooms=rooms\n",
    "        self.floors=floors\n",
    "        self.location=location\n",
    "\n",
    "    def get_details(self):\n",
    "        print(f\"House Details:\")\n",
    "        print(f\"Price: {self.price}\")\n",
    "        print(f\"Rooms: {self.rooms}\")\n",
    "        print(f\"Floors: {self.floors}\")\n",
    "        print(f\"Location: {self.location}\")\n",
    "\n",
    "    def calculate_price_per_room(self):\n",
    "        return self.price / self.rooms\n",
    "    \n",
    "# Villa extending House\n",
    "class Villa(House):\n",
    "    def __init__(self, price, rooms, floors, location, pool_size, garden_area):\n",
    "        super().__init__(price, rooms, floors, location)\n",
    "        self.pool_size=pool_size\n",
    "        self.garden_area=garden_area\n",
    "\n",
    "    def get_outdoor_details(self):\n",
    "        print(f\"Outdoor Amenities:\")\n",
    "        print(f\"Pool Size: {self.pool_size}\")\n",
    "        print(f\"Garden Area: {self.garden_area}\")\n",
    "\n",
    "    def total_outdoor_area(self):\n",
    "        return self.pool_size + self.garden_area\n",
    "    \n",
    "house=House(1000000, 5, 2, \"Pune\")\n",
    "house.get_details()\n",
    "house.calculate_price_per_room()\n",
    "\n",
    "villa=Villa(2000000, 6, 3, \"Mumbai\", 50, 1000)\n",
    "villa.get_details()\n",
    "villa.calculate_price_per_room()\n",
    "villa.get_outdoor_details()\n",
    "villa.total_outdoor_area()\n"
   ]
  },
  {
   "cell_type": "markdown",
   "metadata": {},
   "source": [
    "## Encapsulation and Property Decorators (@property) ##"
   ]
  },
  {
   "cell_type": "code",
   "execution_count": 20,
   "metadata": {},
   "outputs": [
    {
     "name": "stdout",
     "output_type": "stream",
     "text": [
      "25\n",
      "30\n"
     ]
    }
   ],
   "source": [
    "class Person:\n",
    "    def __init__(self, name, age):\n",
    "        self.name = name\n",
    "        self._age = age\n",
    "\n",
    "    @property\n",
    "    def age(self):\n",
    "        return self._age\n",
    "\n",
    "    @age.setter\n",
    "    def age(self, value):\n",
    "        if value < 0:\n",
    "            raise ValueError(\"Age cannot be negative\")\n",
    "        self._age = value\n",
    "\n",
    "\n",
    "p = Person(\"Nate\", 25)\n",
    "print(p.age)\n",
    "p.age = 30\n",
    "print(p.age)\n",
    "# p.age=-1 # This will raise an error"
   ]
  },
  {
   "cell_type": "markdown",
   "metadata": {},
   "source": [
    "## Destructor ##"
   ]
  },
  {
   "cell_type": "code",
   "execution_count": null,
   "metadata": {},
   "outputs": [
    {
     "name": "stdout",
     "output_type": "stream",
     "text": [
      "Object created with name: Nate\n"
     ]
    }
   ],
   "source": [
    "class Example:\n",
    "    def __init__(self,name):\n",
    "        self.name=name\n",
    "        print(f\"Object created with name: {self.name}\")\n",
    "\n",
    "    def __del__(self):\n",
    "        print(f\"Object deleted with name: {self.name}\")\n",
    "\n",
    "example=Example(\"Nate\")\n",
    "del example\n"
   ]
  },
  {
   "cell_type": "markdown",
   "metadata": {},
   "source": [
    "## Polymorphism ##"
   ]
  },
  {
   "cell_type": "code",
   "execution_count": 23,
   "metadata": {},
   "outputs": [
    {
     "name": "stdout",
     "output_type": "stream",
     "text": [
      "Meow\n",
      "Bark\n"
     ]
    }
   ],
   "source": [
    "class Cat:\n",
    "    def sound(self):\n",
    "        return \"Meow\"\n",
    "    \n",
    "class Dog:\n",
    "    def sound(self):\n",
    "        return \"Bark\"\n",
    "\n",
    "def make_sound(animal):\n",
    "    print(animal.sound())\n",
    "\n",
    "cat=Cat()\n",
    "dog=Dog()\n",
    "\n",
    "make_sound(cat)\n",
    "make_sound(dog)"
   ]
  },
  {
   "cell_type": "markdown",
   "metadata": {},
   "source": [
    "## Polymorhpism with Inheritance ##"
   ]
  },
  {
   "cell_type": "code",
   "execution_count": 3,
   "metadata": {},
   "outputs": [
    {
     "name": "stdout",
     "output_type": "stream",
     "text": [
      "Meow\n",
      "I'm moving\n",
      "Bark\n",
      "I'm moving\n"
     ]
    }
   ],
   "source": [
    "class Animal:\n",
    "    def make_sound(self):\n",
    "        return \"I'm making a sound\"\n",
    "\n",
    "    def move(self):\n",
    "        return \"I'm moving\"\n",
    "\n",
    "\n",
    "class Cat(Animal):\n",
    "    def make_sound(self):\n",
    "        return \"Meow\"\n",
    "\n",
    "\n",
    "class Dog(Animal):\n",
    "    def make_sound(self):\n",
    "        return \"Bark\"\n",
    "\n",
    "\n",
    "animals = [Cat(), Dog()]\n",
    "\n",
    "for animal in animals:\n",
    "    print(animal.make_sound())\n",
    "    print(animal.move())"
   ]
  },
  {
   "cell_type": "code",
   "execution_count": 2,
   "metadata": {},
   "outputs": [
    {
     "name": "stdout",
     "output_type": "stream",
     "text": [
      "(6, 8)\n"
     ]
    }
   ],
   "source": [
    "class Vector:\n",
    "    def __init__(self, x, y):\n",
    "        self.x = x\n",
    "        self.y = y\n",
    "\n",
    "    def __add__(self, other):\n",
    "        return Vector(self.x + other.x, self.y + other.y)\n",
    "\n",
    "    def __str__(self):\n",
    "        return f\"({self.x}, {self.y})\"\n",
    "\n",
    "\n",
    "v1 = Vector(2, 3)\n",
    "v2 = Vector(4, 5)\n",
    "v3 = v1 + v2\n",
    "print(v3)"
   ]
  },
  {
   "cell_type": "code",
   "execution_count": null,
   "metadata": {},
   "outputs": [],
   "source": []
  }
 ],
 "metadata": {
  "kernelspec": {
   "display_name": "Python 3",
   "language": "python",
   "name": "python3"
  },
  "language_info": {
   "codemirror_mode": {
    "name": "ipython",
    "version": 3
   },
   "file_extension": ".py",
   "mimetype": "text/x-python",
   "name": "python",
   "nbconvert_exporter": "python",
   "pygments_lexer": "ipython3",
   "version": "3.12.7"
  }
 },
 "nbformat": 4,
 "nbformat_minor": 2
}
